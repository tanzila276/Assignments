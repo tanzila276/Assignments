{
 "cells": [
  {
   "cell_type": "markdown",
   "metadata": {},
   "source": [
    "Numpy?\n",
    "\n",
    "NumPy (short for Numerical Python) is a foundational package for numerical computations in Python. It provides support for arrays (including multidimensional arrays) and an assortment of mathematical functions to operate on these arrays. With NumPy, mathematical and logical operations on arrays can be performed efficiently and easily."
   ]
  },
  {
   "cell_type": "markdown",
   "metadata": {},
   "source": [
    "Installation\n",
    "install numpy using pip"
   ]
  },
  {
   "cell_type": "code",
   "execution_count": 2,
   "metadata": {},
   "outputs": [
    {
     "name": "stdout",
     "output_type": "stream",
     "text": [
      "Requirement already satisfied: numpy in c:\\users\\shaheer shah\\appdata\\local\\programs\\python\\python312\\lib\\site-packages (1.26.1)\n",
      "Note: you may need to restart the kernel to use updated packages.\n"
     ]
    },
    {
     "name": "stderr",
     "output_type": "stream",
     "text": [
      "\n",
      "[notice] A new release of pip is available: 23.2.1 -> 23.3.1\n",
      "[notice] To update, run: python.exe -m pip install --upgrade pip\n"
     ]
    }
   ],
   "source": [
    "pip install numpy"
   ]
  },
  {
   "cell_type": "markdown",
   "metadata": {},
   "source": [
    "Numpy Quickstart\n",
    "\n",
    "Creating an array\n",
    "\n",
    "NumPy's main object is the homogeneous multidimensional array."
   ]
  },
  {
   "cell_type": "code",
   "execution_count": 3,
   "metadata": {},
   "outputs": [
    {
     "name": "stdout",
     "output_type": "stream",
     "text": [
      "[1 2 3]\n"
     ]
    }
   ],
   "source": [
    "import numpy as np\n",
    "\n",
    "arr = np.array([1, 2, 3])\n",
    "print(arr)\n"
   ]
  },
  {
   "cell_type": "markdown",
   "metadata": {},
   "source": [
    "Basic Mathematical Operations"
   ]
  },
  {
   "cell_type": "code",
   "execution_count": 4,
   "metadata": {},
   "outputs": [
    {
     "name": "stdout",
     "output_type": "stream",
     "text": [
      "[[ 6  8]\n",
      " [10 12]]\n",
      "[[-4 -4]\n",
      " [-4 -4]]\n",
      "[[ 5 12]\n",
      " [21 32]]\n"
     ]
    }
   ],
   "source": [
    "x = np.array([[1, 2], [3, 4]])\n",
    "y = np.array([[5, 6], [7, 8]])\n",
    "\n",
    "# Element-wise addition\n",
    "print(x + y)\n",
    "\n",
    "# Element-wise subtraction\n",
    "print(x - y)\n",
    "\n",
    "# Element-wise multiplication\n",
    "print(x * y)\n"
   ]
  },
  {
   "cell_type": "markdown",
   "metadata": {},
   "source": [
    "Array creation is one of the fundamental tasks in NumPy. You can create arrays from lists, tuples, or use specialized functions provided by NumPy to generate arrays of zeros, ones, sequences, and random values, among others"
   ]
  },
  {
   "cell_type": "code",
   "execution_count": 5,
   "metadata": {},
   "outputs": [
    {
     "name": "stdout",
     "output_type": "stream",
     "text": [
      "[1 2 3 4]\n",
      "[5 6 7 8]\n"
     ]
    }
   ],
   "source": [
    "import numpy as np\n",
    "\n",
    "# Create an array from a list\n",
    "arr_from_list = np.array([1, 2, 3, 4])\n",
    "print(arr_from_list)\n",
    "\n",
    "# Create an array from a tuple\n",
    "arr_from_tuple = np.array((5, 6, 7, 8))\n",
    "print(arr_from_tuple)\n"
   ]
  },
  {
   "cell_type": "markdown",
   "metadata": {},
   "source": [
    "Random Values"
   ]
  },
  {
   "cell_type": "code",
   "execution_count": 6,
   "metadata": {},
   "outputs": [
    {
     "name": "stdout",
     "output_type": "stream",
     "text": [
      "[[0.06339071 0.94877148]\n",
      " [0.92705529 0.62128403]]\n",
      "[[8 2]\n",
      " [5 5]]\n"
     ]
    }
   ],
   "source": [
    "# Create a 2x2 array of random floats between 0 and 1\n",
    "random_floats = np.random.rand(2, 2)\n",
    "print(random_floats)\n",
    "\n",
    "# Create a 2x2 array of random integers between 1 (inclusive) and 10 (exclusive)\n",
    "random_ints = np.random.randint(1, 10, size=(2, 2))\n",
    "print(random_ints)\n"
   ]
  },
  {
   "cell_type": "markdown",
   "metadata": {},
   "source": [
    "Broadcasting :\n",
    "\n",
    "automates certain operations to make arrays compatible for arithmetic operations. For instance, adding a scalar to an array or adding arrays of different but compatible dimensions"
   ]
  },
  {
   "cell_type": "code",
   "execution_count": 9,
   "metadata": {},
   "outputs": [
    {
     "name": "stdout",
     "output_type": "stream",
     "text": [
      "[2 4 6]\n"
     ]
    }
   ],
   "source": [
    "a = np.array([1, 2, 3])\n",
    "b = 2\n",
    "print(a * b)  \n"
   ]
  },
  {
   "cell_type": "markdown",
   "metadata": {},
   "source": [
    "Examples:\n",
    "Array Broadcasting"
   ]
  },
  {
   "cell_type": "code",
   "execution_count": 7,
   "metadata": {},
   "outputs": [
    {
     "name": "stdout",
     "output_type": "stream",
     "text": [
      "[[2 4 6]\n",
      " [5 7 9]]\n"
     ]
    }
   ],
   "source": [
    "arr1 = np.array([[1, 2, 3], [4, 5, 6]])\n",
    "arr2 = np.array([1, 2, 3])\n",
    "result = arr1 + arr2  \n",
    "print(result)  \n"
   ]
  },
  {
   "cell_type": "markdown",
   "metadata": {},
   "source": [
    "Copies and Views\n",
    "\n",
    "When manipulating arrays, data can be either copied or viewed. A view shares the same data, whereas a copy will have its own data"
   ]
  },
  {
   "cell_type": "code",
   "execution_count": 8,
   "metadata": {},
   "outputs": [
    {
     "name": "stdout",
     "output_type": "stream",
     "text": [
      "[ 1 99  3  4  5]\n",
      "[1 2 3 4 5]\n"
     ]
    }
   ],
   "source": [
    "# Using a view\n",
    "arr = np.array([1, 2, 3, 4, 5])\n",
    "view_arr = arr[1:4]\n",
    "view_arr[0] = 99\n",
    "print(arr)  \n",
    "\n",
    "# Using a copy\n",
    "arr = np.array([1, 2, 3, 4, 5])\n",
    "copy_arr = arr[1:4].copy()\n",
    "copy_arr[0] = 99\n",
    "print(arr)  \n"
   ]
  },
  {
   "cell_type": "markdown",
   "metadata": {},
   "source": [
    "Data types\n",
    "\n",
    "NumPy arrays can store data of a variety of types, such as integers, floats, strings, and complex numbers. You can specify the data type of an array when you create it."
   ]
  },
  {
   "cell_type": "markdown",
   "metadata": {},
   "source": [
    "Structured arrays\n",
    "\n",
    "Structured arrays are a special type of NumPy array that can store data of multiple types in a single column. Structured arrays are very useful for storing and working with heterogeneous data."
   ]
  }
 ],
 "metadata": {
  "kernelspec": {
   "display_name": "Python 3",
   "language": "python",
   "name": "python3"
  },
  "language_info": {
   "codemirror_mode": {
    "name": "ipython",
    "version": 3
   },
   "file_extension": ".py",
   "mimetype": "text/x-python",
   "name": "python",
   "nbconvert_exporter": "python",
   "pygments_lexer": "ipython3",
   "version": "3.12.0"
  }
 },
 "nbformat": 4,
 "nbformat_minor": 2
}
